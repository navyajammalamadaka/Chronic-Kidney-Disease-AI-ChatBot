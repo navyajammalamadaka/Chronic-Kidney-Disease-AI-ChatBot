{
  "cells": [
    {
      "cell_type": "code",
      "execution_count": null,
      "metadata": {
        "id": "GVknLZMFrP24"
      },
      "outputs": [],
      "source": [
        "#Smart Chat Bot Program "
      ]
    },
    {
      "cell_type": "code",
      "execution_count": 1,
      "metadata": {
        "colab": {
          "base_uri": "https://localhost:8080/"
        },
        "id": "Nt33d3kGrhpU",
        "outputId": "992a9c30-9d67-4ba5-8fe4-fc20fd14beca"
      },
      "outputs": [
        {
          "output_type": "stream",
          "name": "stdout",
          "text": [
            "Looking in indexes: https://pypi.org/simple, https://us-python.pkg.dev/colab-wheels/public/simple/\n",
            "Requirement already satisfied: nltk in /usr/local/lib/python3.8/dist-packages (3.7)\n",
            "Requirement already satisfied: click in /usr/local/lib/python3.8/dist-packages (from nltk) (7.1.2)\n",
            "Requirement already satisfied: tqdm in /usr/local/lib/python3.8/dist-packages (from nltk) (4.64.1)\n",
            "Requirement already satisfied: joblib in /usr/local/lib/python3.8/dist-packages (from nltk) (1.2.0)\n",
            "Requirement already satisfied: regex>=2021.8.3 in /usr/local/lib/python3.8/dist-packages (from nltk) (2022.6.2)\n"
          ]
        }
      ],
      "source": [
        "pip install nltk"
      ]
    },
    {
      "cell_type": "code",
      "execution_count": 2,
      "metadata": {
        "id": "1ki5QDmCrhr3",
        "colab": {
          "base_uri": "https://localhost:8080/"
        },
        "outputId": "ace57f50-0dfa-414d-caaf-79a8f9ad3aae"
      },
      "outputs": [
        {
          "output_type": "stream",
          "name": "stdout",
          "text": [
            "Looking in indexes: https://pypi.org/simple, https://us-python.pkg.dev/colab-wheels/public/simple/\n",
            "Collecting newspaper3k\n",
            "  Downloading newspaper3k-0.2.8-py3-none-any.whl (211 kB)\n",
            "\u001b[2K     \u001b[90m━━━━━━━━━━━━━━━━━━━━━━━━━━━━━━━━━━━━━━━\u001b[0m \u001b[32m211.1/211.1 KB\u001b[0m \u001b[31m4.5 MB/s\u001b[0m eta \u001b[36m0:00:00\u001b[0m\n",
            "\u001b[?25hCollecting cssselect>=0.9.2\n",
            "  Downloading cssselect-1.2.0-py2.py3-none-any.whl (18 kB)\n",
            "Requirement already satisfied: PyYAML>=3.11 in /usr/local/lib/python3.8/dist-packages (from newspaper3k) (6.0)\n",
            "Requirement already satisfied: requests>=2.10.0 in /usr/local/lib/python3.8/dist-packages (from newspaper3k) (2.25.1)\n",
            "Requirement already satisfied: lxml>=3.6.0 in /usr/local/lib/python3.8/dist-packages (from newspaper3k) (4.9.2)\n",
            "Collecting jieba3k>=0.35.1\n",
            "  Downloading jieba3k-0.35.1.zip (7.4 MB)\n",
            "\u001b[2K     \u001b[90m━━━━━━━━━━━━━━━━━━━━━━━━━━━━━━━━━━━━━━━━\u001b[0m \u001b[32m7.4/7.4 MB\u001b[0m \u001b[31m31.1 MB/s\u001b[0m eta \u001b[36m0:00:00\u001b[0m\n",
            "\u001b[?25h  Preparing metadata (setup.py) ... \u001b[?25l\u001b[?25hdone\n",
            "Requirement already satisfied: beautifulsoup4>=4.4.1 in /usr/local/lib/python3.8/dist-packages (from newspaper3k) (4.6.3)\n",
            "Collecting tldextract>=2.0.1\n",
            "  Downloading tldextract-3.4.0-py3-none-any.whl (93 kB)\n",
            "\u001b[2K     \u001b[90m━━━━━━━━━━━━━━━━━━━━━━━━━━━━━━━━━━━━━━━\u001b[0m \u001b[32m93.9/93.9 KB\u001b[0m \u001b[31m318.9 kB/s\u001b[0m eta \u001b[36m0:00:00\u001b[0m\n",
            "\u001b[?25hRequirement already satisfied: Pillow>=3.3.0 in /usr/local/lib/python3.8/dist-packages (from newspaper3k) (7.1.2)\n",
            "Collecting feedparser>=5.2.1\n",
            "  Downloading feedparser-6.0.10-py3-none-any.whl (81 kB)\n",
            "\u001b[2K     \u001b[90m━━━━━━━━━━━━━━━━━━━━━━━━━━━━━━━━━━━━━━━━\u001b[0m \u001b[32m81.1/81.1 KB\u001b[0m \u001b[31m4.9 MB/s\u001b[0m eta \u001b[36m0:00:00\u001b[0m\n",
            "\u001b[?25hRequirement already satisfied: nltk>=3.2.1 in /usr/local/lib/python3.8/dist-packages (from newspaper3k) (3.7)\n",
            "Collecting tinysegmenter==0.3\n",
            "  Downloading tinysegmenter-0.3.tar.gz (16 kB)\n",
            "  Preparing metadata (setup.py) ... \u001b[?25l\u001b[?25hdone\n",
            "Requirement already satisfied: python-dateutil>=2.5.3 in /usr/local/lib/python3.8/dist-packages (from newspaper3k) (2.8.2)\n",
            "Collecting feedfinder2>=0.0.4\n",
            "  Downloading feedfinder2-0.0.4.tar.gz (3.3 kB)\n",
            "  Preparing metadata (setup.py) ... \u001b[?25l\u001b[?25hdone\n",
            "Requirement already satisfied: six in /usr/local/lib/python3.8/dist-packages (from feedfinder2>=0.0.4->newspaper3k) (1.15.0)\n",
            "Collecting sgmllib3k\n",
            "  Downloading sgmllib3k-1.0.0.tar.gz (5.8 kB)\n",
            "  Preparing metadata (setup.py) ... \u001b[?25l\u001b[?25hdone\n",
            "Requirement already satisfied: click in /usr/local/lib/python3.8/dist-packages (from nltk>=3.2.1->newspaper3k) (7.1.2)\n",
            "Requirement already satisfied: regex>=2021.8.3 in /usr/local/lib/python3.8/dist-packages (from nltk>=3.2.1->newspaper3k) (2022.6.2)\n",
            "Requirement already satisfied: joblib in /usr/local/lib/python3.8/dist-packages (from nltk>=3.2.1->newspaper3k) (1.2.0)\n",
            "Requirement already satisfied: tqdm in /usr/local/lib/python3.8/dist-packages (from nltk>=3.2.1->newspaper3k) (4.64.1)\n",
            "Requirement already satisfied: idna<3,>=2.5 in /usr/local/lib/python3.8/dist-packages (from requests>=2.10.0->newspaper3k) (2.10)\n",
            "Requirement already satisfied: urllib3<1.27,>=1.21.1 in /usr/local/lib/python3.8/dist-packages (from requests>=2.10.0->newspaper3k) (1.24.3)\n",
            "Requirement already satisfied: certifi>=2017.4.17 in /usr/local/lib/python3.8/dist-packages (from requests>=2.10.0->newspaper3k) (2022.12.7)\n",
            "Requirement already satisfied: chardet<5,>=3.0.2 in /usr/local/lib/python3.8/dist-packages (from requests>=2.10.0->newspaper3k) (4.0.0)\n",
            "Collecting requests-file>=1.4\n",
            "  Downloading requests_file-1.5.1-py2.py3-none-any.whl (3.7 kB)\n",
            "Requirement already satisfied: filelock>=3.0.8 in /usr/local/lib/python3.8/dist-packages (from tldextract>=2.0.1->newspaper3k) (3.9.0)\n",
            "Building wheels for collected packages: tinysegmenter, feedfinder2, jieba3k, sgmllib3k\n",
            "  Building wheel for tinysegmenter (setup.py) ... \u001b[?25l\u001b[?25hdone\n",
            "  Created wheel for tinysegmenter: filename=tinysegmenter-0.3-py3-none-any.whl size=13552 sha256=5e62707d0f3f4b3a3e03fbefd5aead51a474751400866be65ebe0840a74e4471\n",
            "  Stored in directory: /root/.cache/pip/wheels/99/74/83/8fac1c8d9c648cfabebbbffe97a889f6624817f3aa0bbe6c09\n",
            "  Building wheel for feedfinder2 (setup.py) ... \u001b[?25l\u001b[?25hdone\n",
            "  Created wheel for feedfinder2: filename=feedfinder2-0.0.4-py3-none-any.whl size=3354 sha256=a2f7bf474692a8378e82718e78f0e8ce06be64c2844a1d5affdce5e828c2625b\n",
            "  Stored in directory: /root/.cache/pip/wheels/b6/09/68/a9f15498ac02c23dde29f18745bc6a6f574ba4ab41861a3575\n",
            "  Building wheel for jieba3k (setup.py) ... \u001b[?25l\u001b[?25hdone\n",
            "  Created wheel for jieba3k: filename=jieba3k-0.35.1-py3-none-any.whl size=7398405 sha256=4369e4c723b1ca20d9a258b520da763de3bfaff4781c8a0cae920887f4f369b1\n",
            "  Stored in directory: /root/.cache/pip/wheels/1f/7e/0c/54f3b0f5164278677899f2db08f2b07943ce2d024a3c862afb\n",
            "  Building wheel for sgmllib3k (setup.py) ... \u001b[?25l\u001b[?25hdone\n",
            "  Created wheel for sgmllib3k: filename=sgmllib3k-1.0.0-py3-none-any.whl size=6066 sha256=6394c0966ffa01580021d6e613fac993e0ce4e98447dd778516cdb38f5575c74\n",
            "  Stored in directory: /root/.cache/pip/wheels/83/63/2f/117884c3b19d46b64d3d61690333aa80c88dc14050e269c546\n",
            "Successfully built tinysegmenter feedfinder2 jieba3k sgmllib3k\n",
            "Installing collected packages: tinysegmenter, sgmllib3k, jieba3k, feedparser, cssselect, requests-file, feedfinder2, tldextract, newspaper3k\n",
            "Successfully installed cssselect-1.2.0 feedfinder2-0.0.4 feedparser-6.0.10 jieba3k-0.35.1 newspaper3k-0.2.8 requests-file-1.5.1 sgmllib3k-1.0.0 tinysegmenter-0.3 tldextract-3.4.0\n"
          ]
        }
      ],
      "source": [
        "pip install newspaper3k"
      ]
    },
    {
      "cell_type": "code",
      "execution_count": 3,
      "metadata": {
        "id": "TKoBcIxBrhul"
      },
      "outputs": [],
      "source": [
        "#Import Libraries\n",
        "from newspaper import Article\n",
        "import random\n",
        "import string\n",
        "import nltk\n",
        "from sklearn.feature_extraction.text import CountVectorizer\n",
        "from sklearn.metrics.pairwise import cosine_similarity\n",
        "import numpy as np\n",
        "import warnings\n",
        "warnings.filterwarnings('ignore')"
      ]
    },
    {
      "cell_type": "code",
      "execution_count": 4,
      "metadata": {
        "id": "ILnbfXnArhw0",
        "colab": {
          "base_uri": "https://localhost:8080/"
        },
        "outputId": "b89178a5-b32c-4175-bbd1-0150f1e06571"
      },
      "outputs": [
        {
          "output_type": "execute_result",
          "data": {
            "text/plain": [
              "True"
            ]
          },
          "metadata": {},
          "execution_count": 4
        }
      ],
      "source": [
        "#Install punkt package\n",
        "nltk.download('punkt',quiet=True)"
      ]
    },
    {
      "cell_type": "code",
      "execution_count": 5,
      "metadata": {
        "id": "FPJ_PvP-sGRh"
      },
      "outputs": [],
      "source": [
        "#Extract Article\n",
        "article = Article('https://www.cdc.gov/kidneydisease/basics.html')\n",
        "article.download()\n",
        "article.parse()\n",
        "article.nlp()\n",
        "corpus = article.text"
      ]
    },
    {
      "cell_type": "markdown",
      "source": [],
      "metadata": {
        "id": "UGY27VcSAsDN"
      }
    },
    {
      "cell_type": "code",
      "execution_count": 6,
      "metadata": {
        "id": "rQTQmJ0rsGUC",
        "colab": {
          "base_uri": "https://localhost:8080/"
        },
        "outputId": "ab313e6f-df44-47a3-cb8e-07cad3eca1e5"
      },
      "outputs": [
        {
          "output_type": "stream",
          "name": "stdout",
          "text": [
            "Your kidneys, each just the size of a computer mouse, filter all the blood in your body every 30 minutes. They work hard to remove wastes, toxins, and excess fluid. They also help control blood pressure, stimulate production of red blood cells, keep your bones healthy, and regulate blood chemicals that are essential to life.\n",
            "\n",
            "Kidneys that function properly are critical for maintaining good health, however, more than one in seven American adults are estimated to have chronic kidney disease (CKD).\n",
            "\n",
            "About Chronic Kidney Disease\n",
            "\n",
            "CKD is a condition in which the kidneys are damaged and cannot filter blood as well as they should. Because of this, excess fluid and waste from blood remain in the body and may cause other health problems, such as heart disease and stroke.\n",
            "\n",
            "More than 1 in 7 15% of US adults are estimated to have chronic kidney disease, that is about 37 million people.\n",
            "\n",
            "Some other health consequences of CKD include:\n",
            "\n",
            "Anemia or low number of red blood cells\n",
            "\n",
            "Increased occurrence of infections\n",
            "\n",
            "Low calcium levels, high potassium levels, and high phosphorus levels in the blood\n",
            "\n",
            "Loss of appetite or eating less\n",
            "\n",
            "Depression or lower quality of life\n",
            "\n",
            "CKD has varying levels of seriousness. It usually gets worse over time though treatment has been shown to slow progression. If left untreated, CKD can progress to kidney failure and early cardiovascular disease. When the kidneys stop working, dialysis or kidney transplant is needed for survival. Kidney failure treated with dialysis or kidney transplant is called end-stage renal disease (ESRD). Learn more about ESRD.\n",
            "\n",
            "Not all patients with kidney disease progress to kidney failure. To help prevent CKD and lower the risk for kidney failure, control risk factors for CKD, get tested yearly, make lifestyle changes, take medicine as needed, and see your health care team regularly.\n"
          ]
        }
      ],
      "source": [
        "#Print Article Text\n",
        "print(corpus)"
      ]
    },
    {
      "cell_type": "code",
      "execution_count": 7,
      "metadata": {
        "id": "RiNQEw6JsGYJ"
      },
      "outputs": [],
      "source": [
        "#Tokenization\n",
        "text = corpus\n",
        "sentence_list = nltk.sent_tokenize(text)  #List of Sentences\n",
        "\n"
      ]
    },
    {
      "cell_type": "code",
      "execution_count": 8,
      "metadata": {
        "id": "aBZ8WTfHsGar",
        "colab": {
          "base_uri": "https://localhost:8080/"
        },
        "outputId": "41e41213-f87e-4087-fc1e-ff647aad3837"
      },
      "outputs": [
        {
          "output_type": "stream",
          "name": "stdout",
          "text": [
            "['Your kidneys, each just the size of a computer mouse, filter all the blood in your body every 30 minutes.', 'They work hard to remove wastes, toxins, and excess fluid.', 'They also help control blood pressure, stimulate production of red blood cells, keep your bones healthy, and regulate blood chemicals that are essential to life.', 'Kidneys that function properly are critical for maintaining good health, however, more than one in seven American adults are estimated to have chronic kidney disease (CKD).', 'About Chronic Kidney Disease\\n\\nCKD is a condition in which the kidneys are damaged and cannot filter blood as well as they should.', 'Because of this, excess fluid and waste from blood remain in the body and may cause other health problems, such as heart disease and stroke.', 'More than 1 in 7 15% of US adults are estimated to have chronic kidney disease, that is about 37 million people.', 'Some other health consequences of CKD include:\\n\\nAnemia or low number of red blood cells\\n\\nIncreased occurrence of infections\\n\\nLow calcium levels, high potassium levels, and high phosphorus levels in the blood\\n\\nLoss of appetite or eating less\\n\\nDepression or lower quality of life\\n\\nCKD has varying levels of seriousness.', 'It usually gets worse over time though treatment has been shown to slow progression.', 'If left untreated, CKD can progress to kidney failure and early cardiovascular disease.', 'When the kidneys stop working, dialysis or kidney transplant is needed for survival.', 'Kidney failure treated with dialysis or kidney transplant is called end-stage renal disease (ESRD).', 'Learn more about ESRD.', 'Not all patients with kidney disease progress to kidney failure.', 'To help prevent CKD and lower the risk for kidney failure, control risk factors for CKD, get tested yearly, make lifestyle changes, take medicine as needed, and see your health care team regularly.']\n"
          ]
        }
      ],
      "source": [
        "#Print the List of Sentences\n",
        "print(sentence_list)"
      ]
    },
    {
      "cell_type": "code",
      "execution_count": 9,
      "metadata": {
        "id": "YwFPURy0sGdJ"
      },
      "outputs": [],
      "source": [
        "#Function to return random greeting responses for users\n",
        "def greeting_response(text):\n",
        "  text = text.lower()\n",
        "  bot_greetings = ['hi', 'hey', 'hello', 'hola'] #Bot Responses\n",
        "  user_greetings = ['hello', 'hey', 'hola', 'hi', 'whatsup'] \n",
        "\n",
        "  for word in text.split():\n",
        "    if word in user_greetings:\n",
        "      return random.choice(bot_greetings)\n",
        "\n"
      ]
    },
    {
      "cell_type": "code",
      "execution_count": 10,
      "metadata": {
        "id": "o8gShfghwZj5"
      },
      "outputs": [],
      "source": [
        "def index_sort(list_var):\n",
        "  length = len(list_var)\n",
        "  list_index = list(range(0, length))\n",
        "\n",
        "  x = list_var\n",
        "  for i in range(length):\n",
        "    for j in range(length):\n",
        "      if x[list_index[i]] > x[list_index[j]]:\n",
        "        #Swapping\n",
        "         temp = list_index[i]\n",
        "         list_index[i] = list_index[j]\n",
        "         list_index[j] = temp\n",
        "\n",
        "    return list_index\n",
        "\n",
        "\n",
        "\n"
      ]
    },
    {
      "cell_type": "code",
      "execution_count": 11,
      "metadata": {
        "id": "MmcxDIfpsGgN"
      },
      "outputs": [],
      "source": [
        "#Generate Bot Responses\n",
        "def bot_response(user_input):\n",
        "  user_input = user_input.lower()\n",
        "  sentence_list.append(user_input)\n",
        "  bot_response = ''\n",
        "  cm = CountVectorizer().fit_transform(sentence_list)\n",
        "  similarity_scores = cosine_similarity(cm[-1], cm)\n",
        "  similarity_scores_list = similarity_scores.flatten()\n",
        "  index = index_sort(similarity_scores_list)\n",
        "  index = index[1:]\n",
        "  response_flag = 0\n",
        "\n",
        "  j = 0\n",
        "  for i in range(len(index)):\n",
        "    if similarity_scores_list[index[i]] > 0.0:\n",
        "      bot_response = bot_response+' '+sentence_list[index[i]]\n",
        "      response_flag = 1\n",
        "      j = j+1\n",
        "    if j > 2:\n",
        "      break\n",
        "        \n",
        "  if response_flag == 0:\n",
        "    bot_response = bot_response+' '+\"I apologize, I dont understand that\"\n",
        "    \n",
        "  sentence_list.remove(user_input)\n",
        "\n",
        "  return bot_response"
      ]
    },
    {
      "cell_type": "code",
      "execution_count": 12,
      "metadata": {
        "colab": {
          "base_uri": "https://localhost:8080/"
        },
        "id": "Tzc_zTu7sGjH",
        "outputId": "810a118b-8217-435a-de72-9be76da2f50e"
      },
      "outputs": [
        {
          "output_type": "stream",
          "name": "stdout",
          "text": [
            "Bot: I am a Doc Bot. I will answer your questions on Chronic Kidney Disease. If you want to exit, type Bye \n",
            "what are consequences of Chronic kidney disease?\n",
            "Bot:  Your kidneys, each just the size of a computer mouse, filter all the blood in your body every 30 minutes. They also help control blood pressure, stimulate production of red blood cells, keep your bones healthy, and regulate blood chemicals that are essential to life. Kidneys that function properly are critical for maintaining good health, however, more than one in seven American adults are estimated to have chronic kidney disease (CKD).\n",
            "is Chronic kidney disease dangerous?\n",
            "Bot:  Kidneys that function properly are critical for maintaining good health, however, more than one in seven American adults are estimated to have chronic kidney disease (CKD). About Chronic Kidney Disease\n",
            "\n",
            "CKD is a condition in which the kidneys are damaged and cannot filter blood as well as they should. Because of this, excess fluid and waste from blood remain in the body and may cause other health problems, such as heart disease and stroke.\n",
            "bye\n",
            "Bot: Hope to chat with you later\n"
          ]
        }
      ],
      "source": [
        "#Start Chatting\n",
        "print('Bot: I am a Doc Bot. I will answer your questions on Chronic Kidney Disease. If you want to exit, type Bye ')\n",
        "\n",
        "exit_list = ['exit', 'bye', 'see you later', 'quit', 'break']\n",
        "while(True):\n",
        "  user_input = input()\n",
        "  if user_input.lower() in exit_list:\n",
        "    print('Bot: Hope to chat with you later')\n",
        "    break\n",
        "  else:\n",
        "    if greeting_response(user_input) != None:\n",
        "      print('Bot: '+greeting_response(user_input))\n",
        "    else:\n",
        "      print('Bot: '+bot_response(user_input))"
      ]
    }
  ],
  "metadata": {
    "colab": {
      "name": "Chat Bot.ipynb",
      "provenance": []
    },
    "kernelspec": {
      "display_name": "Python 3",
      "name": "python3"
    },
    "language_info": {
      "name": "python"
    }
  },
  "nbformat": 4,
  "nbformat_minor": 0
}